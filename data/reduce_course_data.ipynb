{
 "metadata": {
  "language_info": {
   "codemirror_mode": {
    "name": "ipython",
    "version": 3
   },
   "file_extension": ".py",
   "mimetype": "text/x-python",
   "name": "python",
   "nbconvert_exporter": "python",
   "pygments_lexer": "ipython3",
   "version": "3.7.9"
  },
  "orig_nbformat": 2,
  "kernelspec": {
   "name": "python379jvsc74a57bd049829f493ad5d118e18ff53a92896b25bd948376213065aac22ea39062dfb69b",
   "display_name": "Python 3.7.9 64-bit ('librs': conda)"
  }
 },
 "nbformat": 4,
 "nbformat_minor": 2,
 "cells": [
  {
   "cell_type": "code",
   "execution_count": 6,
   "metadata": {},
   "outputs": [],
   "source": [
    "import json, csv\n",
    "from tqdm import tqdm\n",
    "data = json.load(open('course_test.json'))\n",
    "with open('course_category.csv', newline='') as f:\n",
    "    name2cat = {row[3]: row[0] for row in csv.reader(f)}"
   ]
  },
  {
   "cell_type": "code",
   "execution_count": 7,
   "metadata": {},
   "outputs": [],
   "source": [
    "name2set_name = {}\n",
    "def find_similar_course(name2cat, course_name):\n",
    "    max_val, max_dim = -1, ''\n",
    "    global name2set_name\n",
    "    for n in name2cat.keys():\n",
    "        if n not in name2set_name:\n",
    "            name2set_name[n] = set(n)\n",
    "        val = len(name2set_name[n] & set(course_name))\n",
    "        if val > max_val:\n",
    "            max_name, max_val = n, val\n",
    "    return name2cat[max_name]\n",
    "\n",
    "def add_course_category(stus, name2cat):\n",
    "    for stu in tqdm(stus):\n",
    "        course = []\n",
    "        for c in stu['course']:\n",
    "            if c['category'] != '通識':\n",
    "                continue\n",
    "            del c['category']\n",
    "            cat = find_similar_course(name2cat, c['name'])\n",
    "            c['dim'] = cat # 向度\n",
    "            course.append(c)\n",
    "        stu['course'] = course\n",
    "    return stus\n"
   ]
  },
  {
   "cell_type": "code",
   "execution_count": 8,
   "metadata": {},
   "outputs": [
    {
     "output_type": "stream",
     "name": "stderr",
     "text": [
      "100%|██████████| 9357/9357 [00:09<00:00, 948.46it/s] \n"
     ]
    }
   ],
   "source": [
    "new_data = add_course_category(data, name2cat)"
   ]
  },
  {
   "cell_type": "code",
   "execution_count": 9,
   "metadata": {},
   "outputs": [
    {
     "output_type": "execute_result",
     "data": {
      "text/plain": [
       "{'studentID': '400110002',\n",
       " 'property': {'leaveSchool': '在校生',\n",
       "  'department': '中國文學系',\n",
       "  'graduateYear': 101,\n",
       "  'academy': '文學院'},\n",
       " 'course': [{'ID': '7507004', 'name': '今日汽車', 'dim': '2.6'},\n",
       "  {'ID': '7406020', 'name': '人力資源管理', 'dim': '2.5'},\n",
       "  {'ID': '7407015', 'name': '服務學習', 'dim': '2.4'}]}"
      ]
     },
     "metadata": {},
     "execution_count": 9
    }
   ],
   "source": [
    "new_data[0]"
   ]
  },
  {
   "cell_type": "code",
   "execution_count": 10,
   "metadata": {},
   "outputs": [],
   "source": [
    "with open('course_test_with_dim.json', 'w') as f:\n",
    "    json.dump(data, f, ensure_ascii=False, indent=2)"
   ]
  },
  {
   "cell_type": "code",
   "execution_count": null,
   "metadata": {},
   "outputs": [],
   "source": []
  }
 ]
}