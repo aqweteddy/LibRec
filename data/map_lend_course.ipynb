{
 "cells": [
  {
   "cell_type": "code",
   "execution_count": 1,
   "metadata": {},
   "outputs": [],
   "source": [
    "import pandas as pd\n",
    "import json\n",
    "\n",
    "def load_json(file):\n",
    "    with open(file) as f:\n",
    "        return json.load(f)"
   ]
  },
  {
   "cell_type": "code",
   "execution_count": 2,
   "metadata": {},
   "outputs": [],
   "source": [
    "# train\n",
    "train_records = load_json('history_2006_2011.json')\n",
    "test_records = load_json('history_2012.json')\n",
    "train_course = load_json('course_train.json')\n",
    "test_course = load_json('course_test.json')"
   ]
  },
  {
   "cell_type": "code",
   "execution_count": 5,
   "metadata": {},
   "outputs": [
    {
     "data": {
      "text/plain": [
       "[['005170624', '20110917'],\n",
       " ['005202137', '20110919'],\n",
       " ['005222282', '20110917'],\n",
       " ['005233448', '20110921'],\n",
       " ['005267835', '20110921'],\n",
       " ['005284266', '20110917'],\n",
       " ['005299483', '20110921'],\n",
       " ['006002431', '20110917'],\n",
       " ['006009826', '20110917']]"
      ]
     },
     "execution_count": 5,
     "metadata": {},
     "output_type": "execute_result"
    }
   ],
   "source": [
    "train_records['P223782555']"
   ]
  },
  {
   "cell_type": "code",
   "execution_count": 6,
   "metadata": {},
   "outputs": [
    {
     "data": {
      "text/plain": [
       "{'studentID': '400110002',\n",
       " 'property': {'leaveSchool': '在校生',\n",
       "  'department': '中國文學系',\n",
       "  'graduateYear': 100,\n",
       "  'academy': '文學院'},\n",
       " 'course': [{'category': '選修', 'ID': '1101083', 'name': '寫作指導'},\n",
       "  {'category': '選修', 'ID': '1101311', 'name': '語言學概論（一）'},\n",
       "  {'category': '必修', 'ID': '1101411', 'name': '國學導讀（一）'},\n",
       "  {'category': '選修', 'ID': '1101711', 'name': '神話學（一）'},\n",
       "  {'category': '必修', 'ID': '1101811', 'name': '文學概論（一）'},\n",
       "  {'category': '通識', 'ID': '7102211', 'name': '應用英語表達（基礎班）'},\n",
       "  {'category': '通識', 'ID': '7301042', 'name': '西班牙文（一）'},\n",
       "  {'category': '通識', 'ID': '7305002', 'name': '基督信仰與西方近代科學'},\n",
       "  {'category': '通識', 'ID': '7506003', 'name': '認識海洋'},\n",
       "  {'category': '通識', 'ID': '7507001', 'name': '地震與防震'},\n",
       "  {'category': '必修', 'ID': '9021001', 'name': '體育（一）'},\n",
       "  {'category': '選修', 'ID': '1101312', 'name': '語言學概論（二）'},\n",
       "  {'category': '必修', 'ID': '1101412', 'name': '國學導讀（二）'},\n",
       "  {'category': '選修', 'ID': '1101520', 'name': '現代散文'},\n",
       "  {'category': '選修', 'ID': '1101543', 'name': '中國小說選'},\n",
       "  {'category': '必修', 'ID': '1101812', 'name': '文學概論（二）'},\n",
       "  {'category': '必修', 'ID': '1101888', 'name': '學系服務學習'},\n",
       "  {'category': '通識', 'ID': '7102111', 'name': '實用英語表達（基礎班）'},\n",
       "  {'category': '通識', 'ID': '7304007', 'name': '西洋音樂史'},\n",
       "  {'category': '通識', 'ID': '7404019', 'name': '認識智慧財產權'},\n",
       "  {'category': '通識', 'ID': '7407010', 'name': '創造力發展'},\n",
       "  {'category': '必修', 'ID': '9021002', 'name': '體育（二）'}]}"
      ]
     },
     "execution_count": 6,
     "metadata": {},
     "output_type": "execute_result"
    }
   ],
   "source": [
    "train_course[0]"
   ]
  },
  {
   "cell_type": "code",
   "execution_count": null,
   "metadata": {},
   "outputs": [],
   "source": []
  }
 ],
 "metadata": {
  "kernelspec": {
   "display_name": "Python 3",
   "language": "python",
   "name": "python3"
  },
  "language_info": {
   "codemirror_mode": {
    "name": "ipython",
    "version": 3
   },
   "file_extension": ".py",
   "mimetype": "text/x-python",
   "name": "python",
   "nbconvert_exporter": "python",
   "pygments_lexer": "ipython3",
   "version": "3.7.9"
  }
 },
 "nbformat": 4,
 "nbformat_minor": 2
}
